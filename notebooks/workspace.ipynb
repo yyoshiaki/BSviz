{
 "cells": [
  {
   "cell_type": "markdown",
   "metadata": {},
   "source": [
    "## create fa for TregDRs as test data.\n",
    "\n",
    "```\n",
    "cd ~/NGS_original/191103_hPBAT_Fr1-6_STR1.5.6.BDR1_Nova_mergeAll\n",
    "samtools sort -@ 40 STR1_Fr2_R1.trim_bismark_bt2.deduplicated_2nd.bam \\\n",
    "-o STR1_Fr2_R1.trim_bismark_bt2.deduplicated_2nd.sort.bam\n",
    "samtools index STR1_Fr2_R1.trim_bismark_bt2.deduplicated_2nd.sort.bam\n",
    "samtools view -b STR1_Fr2_R1.trim_bismark_bt2.deduplicated_2nd.sort.bam chr12:56022890-56023199 > IKZF4.Treg.bam\n",
    "samtools fasta -s -n IKZF4.Treg.bam > IKZF4.Treg.fa\n",
    "```"
   ]
  },
  {
   "cell_type": "code",
   "execution_count": 1,
   "metadata": {},
   "outputs": [],
   "source": [
    "import numpy as np\n",
    "import pandas as pd\n",
    "import matplotlib.pyplot as plt\n",
    "import seaborn as sns\n",
    "np.random.seed(100)\n",
    "%matplotlib inline\n",
    "%config InlineBackend.figure_format = 'retina'\n",
    "\n",
    "import matplotlib as mpl\n",
    "mpl.rcParams['figure.facecolor'] = (1,1,1,1)\n",
    "mpl.rcParams['pdf.fonttype'] = 42\n",
    "mpl.rcParams['ps.fonttype'] = 42\n",
    "\n",
    "pd.set_option('display.max_columns', 100)\n",
    "\n",
    "from skbio import DNA\n",
    "from skbio.alignment import local_pairwise_align_ssw"
   ]
  },
  {
   "cell_type": "code",
   "execution_count": 54,
   "metadata": {},
   "outputs": [
    {
     "data": {
      "image/png": "[encoded data removed]",
      "text/plain": [
       "<Figure size 1440x72 with 1 Axes>"
      ]
     },
     "metadata": {
      "image/png": {
       "height": 72,
       "width": 1133
      },
      "needs_background": "light"
     },
     "output_type": "display_data"
    }
   ],
   "source": [
    "sns.palplot(sns.diverging_palette(55, 245, s=90, l=70, n=20, center=\"dark\"))"
   ]
  },
  {
   "cell_type": "code",
   "execution_count": 34,
   "metadata": {},
   "outputs": [
    {
     "ename": "ValueError",
     "evalue": "('light', 'dark') cannot be transformed to a widget",
     "output_type": "error",
     "traceback": [
      "\u001b[0;31m---------------------------------------------------------------------------\u001b[0m",
      "\u001b[0;31mValueError\u001b[0m                                Traceback (most recent call last)",
      "\u001b[0;32m<ipython-input-34-1e7666903f9e>\u001b[0m in \u001b[0;36m<module>\u001b[0;34m\u001b[0m\n\u001b[1;32m      4\u001b[0m     \u001b[0msns\u001b[0m\u001b[0;34m.\u001b[0m\u001b[0mpalplot\u001b[0m\u001b[0;34m(\u001b[0m\u001b[0msns\u001b[0m\u001b[0;34m.\u001b[0m\u001b[0mdiverging_palette\u001b[0m\u001b[0;34m(\u001b[0m\u001b[0mh_neg\u001b[0m\u001b[0;34m,\u001b[0m \u001b[0mh_pos\u001b[0m\u001b[0;34m,\u001b[0m \u001b[0mn\u001b[0m\u001b[0;34m=\u001b[0m\u001b[0;36m24\u001b[0m\u001b[0;34m,\u001b[0m \u001b[0ms\u001b[0m\u001b[0;34m=\u001b[0m\u001b[0ms\u001b[0m\u001b[0;34m,\u001b[0m \u001b[0ml\u001b[0m\u001b[0;34m=\u001b[0m\u001b[0ml\u001b[0m\u001b[0;34m,\u001b[0m \u001b[0mcenter\u001b[0m\u001b[0;34m=\u001b[0m\u001b[0mcenter\u001b[0m\u001b[0;34m)\u001b[0m\u001b[0;34m)\u001b[0m\u001b[0;34m\u001b[0m\u001b[0;34m\u001b[0m\u001b[0m\n\u001b[1;32m      5\u001b[0m interact(show_pal4, h_neg=FloatSlider(220, max=360), h_pos=FloatSlider(20, max=360), \n\u001b[0;32m----> 6\u001b[0;31m          s=FloatSlider(75, max=99), l=FloatSlider(50, max=99), center=('light', 'dark'));\n\u001b[0m",
      "\u001b[0;32m~/anaconda3/lib/python3.7/site-packages/ipywidgets/widgets/interaction.py\u001b[0m in \u001b[0;36m__call__\u001b[0;34m(self, _InteractFactory__interact_f, **kwargs)\u001b[0m\n\u001b[1;32m    521\u001b[0m         \u001b[0;31m#    def f(*args, **kwargs):\u001b[0m\u001b[0;34m\u001b[0m\u001b[0;34m\u001b[0m\u001b[0;34m\u001b[0m\u001b[0m\n\u001b[1;32m    522\u001b[0m         \u001b[0;31m#        ...\u001b[0m\u001b[0;34m\u001b[0m\u001b[0;34m\u001b[0m\u001b[0;34m\u001b[0m\u001b[0m\n\u001b[0;32m--> 523\u001b[0;31m         \u001b[0mw\u001b[0m \u001b[0;34m=\u001b[0m \u001b[0mself\u001b[0m\u001b[0;34m.\u001b[0m\u001b[0mwidget\u001b[0m\u001b[0;34m(\u001b[0m\u001b[0mf\u001b[0m\u001b[0;34m)\u001b[0m\u001b[0;34m\u001b[0m\u001b[0;34m\u001b[0m\u001b[0m\n\u001b[0m\u001b[1;32m    524\u001b[0m         \u001b[0;32mtry\u001b[0m\u001b[0;34m:\u001b[0m\u001b[0;34m\u001b[0m\u001b[0;34m\u001b[0m\u001b[0m\n\u001b[1;32m    525\u001b[0m             \u001b[0mf\u001b[0m\u001b[0;34m.\u001b[0m\u001b[0mwidget\u001b[0m \u001b[0;34m=\u001b[0m \u001b[0mw\u001b[0m\u001b[0;34m\u001b[0m\u001b[0;34m\u001b[0m\u001b[0m\n",
      "\u001b[0;32m~/anaconda3/lib/python3.7/site-packages/ipywidgets/widgets/interaction.py\u001b[0m in \u001b[0;36mwidget\u001b[0;34m(self, f)\u001b[0m\n\u001b[1;32m    437\u001b[0m             \u001b[0mThe\u001b[0m \u001b[0mfunction\u001b[0m \u001b[0mto\u001b[0m \u001b[0mwhich\u001b[0m \u001b[0mthe\u001b[0m \u001b[0minteractive\u001b[0m \u001b[0mwidgets\u001b[0m \u001b[0mare\u001b[0m \u001b[0mtied\u001b[0m\u001b[0;34m.\u001b[0m\u001b[0;34m\u001b[0m\u001b[0;34m\u001b[0m\u001b[0m\n\u001b[1;32m    438\u001b[0m         \"\"\"\n\u001b[0;32m--> 439\u001b[0;31m         \u001b[0;32mreturn\u001b[0m \u001b[0mself\u001b[0m\u001b[0;34m.\u001b[0m\u001b[0mcls\u001b[0m\u001b[0;34m(\u001b[0m\u001b[0mf\u001b[0m\u001b[0;34m,\u001b[0m \u001b[0mself\u001b[0m\u001b[0;34m.\u001b[0m\u001b[0mopts\u001b[0m\u001b[0;34m,\u001b[0m \u001b[0;34m**\u001b[0m\u001b[0mself\u001b[0m\u001b[0;34m.\u001b[0m\u001b[0mkwargs\u001b[0m\u001b[0;34m)\u001b[0m\u001b[0;34m\u001b[0m\u001b[0;34m\u001b[0m\u001b[0m\n\u001b[0m\u001b[1;32m    440\u001b[0m \u001b[0;34m\u001b[0m\u001b[0m\n\u001b[1;32m    441\u001b[0m     \u001b[0;32mdef\u001b[0m \u001b[0m__call__\u001b[0m\u001b[0;34m(\u001b[0m\u001b[0mself\u001b[0m\u001b[0;34m,\u001b[0m \u001b[0m__interact_f\u001b[0m\u001b[0;34m=\u001b[0m\u001b[0;32mNone\u001b[0m\u001b[0;34m,\u001b[0m \u001b[0;34m**\u001b[0m\u001b[0mkwargs\u001b[0m\u001b[0;34m)\u001b[0m\u001b[0;34m:\u001b[0m\u001b[0;34m\u001b[0m\u001b[0;34m\u001b[0m\u001b[0m\n",
      "\u001b[0;32m~/anaconda3/lib/python3.7/site-packages/ipywidgets/widgets/interaction.py\u001b[0m in \u001b[0;36m__init__\u001b[0;34m(self, _interactive__interact_f, _interactive__options, **kwargs)\u001b[0m\n\u001b[1;32m    193\u001b[0m             \u001b[0mgetcallargs\u001b[0m\u001b[0;34m(\u001b[0m\u001b[0mf\u001b[0m\u001b[0;34m,\u001b[0m \u001b[0;34m**\u001b[0m\u001b[0;34m{\u001b[0m\u001b[0mn\u001b[0m\u001b[0;34m:\u001b[0m\u001b[0mv\u001b[0m \u001b[0;32mfor\u001b[0m \u001b[0mn\u001b[0m\u001b[0;34m,\u001b[0m\u001b[0mv\u001b[0m\u001b[0;34m,\u001b[0m\u001b[0m_\u001b[0m \u001b[0;32min\u001b[0m \u001b[0mnew_kwargs\u001b[0m\u001b[0;34m}\u001b[0m\u001b[0;34m)\u001b[0m\u001b[0;34m\u001b[0m\u001b[0;34m\u001b[0m\u001b[0m\n\u001b[1;32m    194\u001b[0m         \u001b[0;31m# Now build the widgets from the abbreviations.\u001b[0m\u001b[0;34m\u001b[0m\u001b[0;34m\u001b[0m\u001b[0;34m\u001b[0m\u001b[0m\n\u001b[0;32m--> 195\u001b[0;31m         \u001b[0mself\u001b[0m\u001b[0;34m.\u001b[0m\u001b[0mkwargs_widgets\u001b[0m \u001b[0;34m=\u001b[0m \u001b[0mself\u001b[0m\u001b[0;34m.\u001b[0m\u001b[0mwidgets_from_abbreviations\u001b[0m\u001b[0;34m(\u001b[0m\u001b[0mnew_kwargs\u001b[0m\u001b[0;34m)\u001b[0m\u001b[0;34m\u001b[0m\u001b[0;34m\u001b[0m\u001b[0m\n\u001b[0m\u001b[1;32m    196\u001b[0m \u001b[0;34m\u001b[0m\u001b[0m\n\u001b[1;32m    197\u001b[0m         \u001b[0;31m# This has to be done as an assignment, not using self.children.append,\u001b[0m\u001b[0;34m\u001b[0m\u001b[0;34m\u001b[0m\u001b[0;34m\u001b[0m\u001b[0m\n",
      "\u001b[0;32m~/anaconda3/lib/python3.7/site-packages/ipywidgets/widgets/interaction.py\u001b[0m in \u001b[0;36mwidgets_from_abbreviations\u001b[0;34m(self, seq)\u001b[0m\n\u001b[1;32m    293\u001b[0m             \u001b[0;32mif\u001b[0m \u001b[0;32mnot\u001b[0m \u001b[0;34m(\u001b[0m\u001b[0misinstance\u001b[0m\u001b[0;34m(\u001b[0m\u001b[0mwidget\u001b[0m\u001b[0;34m,\u001b[0m \u001b[0mValueWidget\u001b[0m\u001b[0;34m)\u001b[0m \u001b[0;32mor\u001b[0m \u001b[0misinstance\u001b[0m\u001b[0;34m(\u001b[0m\u001b[0mwidget\u001b[0m\u001b[0;34m,\u001b[0m \u001b[0mfixed\u001b[0m\u001b[0;34m)\u001b[0m\u001b[0;34m)\u001b[0m\u001b[0;34m:\u001b[0m\u001b[0;34m\u001b[0m\u001b[0;34m\u001b[0m\u001b[0m\n\u001b[1;32m    294\u001b[0m                 \u001b[0;32mif\u001b[0m \u001b[0mwidget\u001b[0m \u001b[0;32mis\u001b[0m \u001b[0;32mNone\u001b[0m\u001b[0;34m:\u001b[0m\u001b[0;34m\u001b[0m\u001b[0;34m\u001b[0m\u001b[0m\n\u001b[0;32m--> 295\u001b[0;31m                     \u001b[0;32mraise\u001b[0m \u001b[0mValueError\u001b[0m\u001b[0;34m(\u001b[0m\u001b[0;34m\"{!r} cannot be transformed to a widget\"\u001b[0m\u001b[0;34m.\u001b[0m\u001b[0mformat\u001b[0m\u001b[0;34m(\u001b[0m\u001b[0mabbrev\u001b[0m\u001b[0;34m)\u001b[0m\u001b[0;34m)\u001b[0m\u001b[0;34m\u001b[0m\u001b[0;34m\u001b[0m\u001b[0m\n\u001b[0m\u001b[1;32m    296\u001b[0m                 \u001b[0;32melse\u001b[0m\u001b[0;34m:\u001b[0m\u001b[0;34m\u001b[0m\u001b[0;34m\u001b[0m\u001b[0m\n\u001b[1;32m    297\u001b[0m                     \u001b[0;32mraise\u001b[0m \u001b[0mTypeError\u001b[0m\u001b[0;34m(\u001b[0m\u001b[0;34m\"{!r} is not a ValueWidget\"\u001b[0m\u001b[0;34m.\u001b[0m\u001b[0mformat\u001b[0m\u001b[0;34m(\u001b[0m\u001b[0mwidget\u001b[0m\u001b[0;34m)\u001b[0m\u001b[0;34m)\u001b[0m\u001b[0;34m\u001b[0m\u001b[0;34m\u001b[0m\u001b[0m\n",
      "\u001b[0;31mValueError\u001b[0m: ('light', 'dark') cannot be transformed to a widget"
     ]
    }
   ],
   "source": [
    "from ipywidgets import interact, FloatSlider\n",
    "\n",
    "def show_pal4(h_neg, h_pos, s, l, center):\n",
    "    sns.palplot(sns.diverging_palette(h_neg, h_pos, n=24, s=s, l=l, center=center))\n",
    "interact(show_pal4, h_neg=FloatSlider(220, max=360), h_pos=FloatSlider(20, max=360), \n",
    "         s=FloatSlider(75, max=99), l=FloatSlider(50, max=99), center=('light', 'dark'));"
   ]
  },
  {
   "cell_type": "code",
   "execution_count": 55,
   "metadata": {},
   "outputs": [
    {
     "data": {
      "text/plain": [
       "140"
      ]
     },
     "execution_count": 55,
     "metadata": {},
     "output_type": "execute_result"
    }
   ],
   "source": [
    "len('GTTTTTTGATTTTTTTTTTTGGTGTTTTTATTTTTAGCGTAGGGTAGTTTTATTTTTGGGTATTGTATGAGATGTTTAGATGATGTAGGAGATAGTATTTTGTATGGGGATTATACGTAGTTAGGGTGGGGTATTCGGGA')"
   ]
  },
  {
   "cell_type": "code",
   "execution_count": null,
   "metadata": {},
   "outputs": [],
   "source": [
    "chr12 56022890 56023199 "
   ]
  },
  {
   "cell_type": "code",
   "execution_count": null,
   "metadata": {},
   "outputs": [],
   "source": [
    "samtools view -b STR1_Fr2_R1.trim_bismark_bt2.deduplicated_2nd.bam chr12:56022890-56023199 | samtools fasta > IKZF4.TregDR.fa"
   ]
  },
  {
   "cell_type": "code",
   "execution_count": 58,
   "metadata": {},
   "outputs": [],
   "source": [
    "s = \"aa\""
   ]
  },
  {
   "cell_type": "code",
   "execution_count": 60,
   "metadata": {},
   "outputs": [],
   "source": [
    "s += \"a \" + 't'"
   ]
  },
  {
   "cell_type": "code",
   "execution_count": 61,
   "metadata": {},
   "outputs": [
    {
     "data": {
      "text/plain": [
       "'aaa t'"
      ]
     },
     "execution_count": 61,
     "metadata": {},
     "output_type": "execute_result"
    }
   ],
   "source": [
    "s"
   ]
  },
  {
   "cell_type": "code",
   "execution_count": null,
   "metadata": {},
   "outputs": [],
   "source": [
    "-D 20 -R 3 -N 0 -L 20 -i S,1,0.50b"
   ]
  },
  {
   "cell_type": "code",
   "execution_count": null,
   "metadata": {},
   "outputs": [],
   "source": [
    "bismark --parallel 10 --output_dir ./static/tmp/job_20200613_204637 \\\n",
    "--temp_dir ./static/tmp/job_20200613_204637 --non_directional -N 1 -f \\\n",
    "--genome  ~/reference/bismark/Gencode_v34/fasta ./static/tmp/job_20200613_204637/input.fasta\n"
   ]
  },
  {
   "cell_type": "code",
   "execution_count": 62,
   "metadata": {},
   "outputs": [
    {
     "data": {
      "text/plain": [
       "'TTTAGGTTTATGTTATTTTTTTGTTTTAGTTTTTTGAGTAGTTGGGATTATAGGTGTTTGTTATTATGTTTGGATAATTTTTTGTATTTTTAGTAGAGATGGGGTTTTATTGTGTTAGTTAGGATGGTTTTGATTTTTTGATTTTGTGATTTGTTTGTTTTGGTTTTTTAAAGTGTTGGGATTATAGGTGTGAGTTATTGTGTTTGGTTGTTTTTAGTGTTTTTAAGTGTATTTTTAAATATATTTTTTTTTATATAGTAAGTTGTTGGTTTTAAGAGGTAGTTTTAGTTGAATAAGTTGGGATTAGTGA'"
      ]
     },
     "execution_count": 62,
     "metadata": {},
     "output_type": "execute_result"
    }
   ],
   "source": [
    "'''CCCAGGTTCACGCCATTCTCCTGCCTCAGCCTCCCGAGTAGCTGGGACTACAGGCGCCCGCTACCATGCC\n",
    "CGGATAATTTTTTGTATTTTTAGTAGAGACGGGGTTTCACCGTGTTAGCCAGGATGGTCTCGATCTCCTG\n",
    "ACCTCGTGATCCGCCCGCCTCGGCCTCCCAAAGTGCTGGGATTACAGGCGTGAGCCACCGCGCCCGGCCG\n",
    "CCCTCAGTGTTTCTAAGTGTACTTTTAAATATATTTTCCTCCACATAGCAAGTCGCTGGCCTCAAGAGGC\n",
    "AGCCTCAGCCGAATAAGCTGGGACCAGTGA'''.replace('\\n', '').replace('C', 'T')"
   ]
  },
  {
   "cell_type": "code",
   "execution_count": 63,
   "metadata": {},
   "outputs": [
    {
     "data": {
      "text/plain": [
       "'TTATTGGTTTTAGTTTATTTGGTTGAGGTTGTTTTTTGAGGTTAGTGATTTGTTATGTGGAGGAAAATATATTTAAAAGTATATTTAGAAATATTGAGGGTGGTTGGGTGTGGTGGTTTATGTTTGTAATTTTAGTATTTTGGGAGGTTGAGGTGGGTGGATTATGAGGTTAGGAGATTGAGATTATTTTGGTTAATATGGTGAAATTTTGTTTTTATTAAAAATATAAAAAATTATTTGGGTATGGTAGTGGGTGTTTGTAGTTTTAGTTATTTGGGAGGTTGAGGTAGGAGAATGGTGTGAATTTGGG'"
      ]
     },
     "execution_count": 63,
     "metadata": {},
     "output_type": "execute_result"
    }
   ],
   "source": [
    "'''TCACTGGTCCCAGCTTATTCGGCTGAGGCTGCCTCTTGAGGCCAGCGACTTGCTATGTGGAGGAAAATATATTTAAA\n",
    "AGTACACTTAGAAACACTGAGGGCGGCCGGGCGCGGTGGCTCACGCCTGTAATCCCAGCACTTTGGGAGGCCGAGGC\n",
    "GGGCGGATCACGAGGTCAGGAGATCGAGACCATCCTGGCTAACACGGTGAAACCCCGTCTCTACTAAAAATACAAAAAA\n",
    "TTATCCGGGCATGGTAGCGGGCGCCTGTAGTCCCAGTAGGGTAGTTTTGCTACTCGGGAGGCTGAGGCAGGAGAATGGCGTGAACCTGGG'''.replace('\\n', '').replace('C', 'T')"
   ]
  },
  {
   "source": [
    "## plot"
   ],
   "cell_type": "markdown",
   "metadata": {}
  },
  {
   "cell_type": "code",
   "execution_count": 12,
   "metadata": {},
   "outputs": [
    {
     "output_type": "stream",
     "name": "stdout",
     "text": [
      "chrX 49260769 49260881:FOXP3\n"
     ]
    }
   ],
   "source": [
    "threshold_rate_undetected = 0.5\n",
    "\n",
    "from pybedtools import BedTool\n",
    "bt_gff3 = BedTool(\"/home/yyasumizu/reference/gencode.v34.annotation.gff3.gz\")\n",
    "\n",
    "\n",
    "def query_gene(df_bismark, bt_gff3):\n",
    "    # f_bismark = \"data/200522_BSseq_PCR/CpG_context_sample_3.fa_bismark_bt2.txt.gz\"\n",
    "    # f_CpG = \"CpG_context_sample_2.fa_bismark_bt2.txt\"\n",
    "    # f_bismark = \"data/CpG_context_input.fasta_bismark_bt2.txt.gz\"\n",
    "\n",
    "    # df_bismark = pd.read_csv(f_CpG, sep='\\t', skiprows=[0], header=None)\n",
    "    # df_bismark.columns=['read', 'strand', 'chr', 'pos', 'meth']\n",
    "\n",
    "    chr_num = list(df_bismark[\"chr\"].unique())\n",
    "\n",
    "    df_bismark = df_bismark.pivot(index='read', columns='pos', values='meth')\n",
    "\n",
    "    gene_pos = list(df_bismark.columns)\n",
    "    bed_ori = \"{}\\t{}\\t{}\".format(chr_num[0], gene_pos[0], gene_pos[-1])\n",
    "\n",
    "    bed = BedTool(bed_ori, from_string=True)\n",
    "\n",
    "\n",
    "    query = bt_gff3.intersect(bed)\n",
    "    list_gene = []\n",
    "    for data in query:\n",
    "        if data[2]==\"gene\":\n",
    "            attr = list(data.attrs.items())\n",
    "            list_gene.append(attr[3][1])\n",
    "            print(\"{} {} {}:{}\".format(data[0], data[3], data[4], attr[3][1]))\n",
    "    \n",
    "    return '; '.join(list_gene)\n",
    "\n",
    "\n",
    "f_bismark = '../static/tmp/job_20210527_155131/CpG_context_input.fasta_bismark_bt2.txt.gz'\n",
    "\n",
    "\n",
    "df_bismark = pd.read_csv(f_bismark, sep='\\t', skiprows=[0], header=None)\n",
    "df_bismark.columns=['read', 'strand', 'chr', 'pos', 'meth']\n",
    "\n",
    "gene = query_gene(df_bismark, bt_gff3)\n",
    "\n",
    "df_bismark = df_bismark.pivot(index='read', columns='pos', values='meth')\n",
    "df_bismark.columns=df_bismark.columns.astype(str)\n",
    "\n",
    "# methylated CpG : 1, unmethylated CpG : 0\n",
    "df_bismark = df_bismark.replace('Z', 1).replace('z', 0)\n",
    "\n",
    "# remove positions with many undetected reads.\n",
    "df_bismark = df_bismark.loc[:,df_bismark.isna().sum() < (df_bismark.shape[0]) * threshold_rate_undetected]\n",
    "\n",
    "# sort reads by methylation\n",
    "sorted_ind = df_bismark.sum(axis=1).sort_values(ascending=False).index\n",
    "df_bismark = df_bismark.loc[sorted_ind]\n",
    "\n",
    "df=df_bismark.melt(value_name='methylation')\n",
    "list_index=list(sorted_ind)\n",
    "reads_num = list_index*(df_bismark.shape[1])\n",
    "df[\"read\"]=reads_num\n",
    "\n",
    "df_0 = df[df.methylation==0.0]\n",
    "df_1 = df[df.methylation==1.0]\n",
    "df_N = df[df.isnull().any(axis=1)]\n",
    "\n",
    "data_2 = {\n",
    "    \"pos\":list(df[\"pos\"]), \n",
    "    \"read\":list(reversed(reads_num)),\n",
    "    \"methylation\":[0]*len(df.index)\n",
    "}\n",
    "\n",
    "df_mat_2 = pd.DataFrame(data_2)\n"
   ]
  },
  {
   "cell_type": "code",
   "execution_count": 13,
   "metadata": {},
   "outputs": [
    {
     "output_type": "execute_result",
     "data": {
      "text/plain": [
       "Text(0.5, 1.0, 'FOXP3')"
      ]
     },
     "metadata": {},
     "execution_count": 13
    },
    {
     "output_type": "display_data",
     "data": {
      "text/plain": "<Figure size 396x122.4 with 1 Axes>",
      "image/png": "[encoded data removed]"
     },
     "metadata": {
      "image/png": {
       "width": 570,
       "height": 193
      }
     }
    }
   ],
   "source": [
    "fig, ax = plt.subplots(figsize=(df_bismark.shape[1]/2, df_bismark.shape[0]/2 + .2))\n",
    "plt.xticks(rotation=90)\n",
    "\n",
    "ax.scatter(x=\"pos\", y=\"read\", data=df_mat_2, marker=\"\", label=None)\n",
    "ax.scatter(x=\"pos\", y=\"read\", data=df_1, s=500, linewidths='2', \n",
    "        c='#000000', edgecolors='black', label='Methylated')\n",
    "ax.scatter(x=\"pos\", y=\"read\", data=df_0, s=500, linewidths='2', \n",
    "        c='#ffffff', edgecolors='black', label='Unmethylated')\n",
    "ax.scatter(x=\"pos\", y=\"read\", data=df_N, c='#0000ff', marker=\".\", label='Undetected')\n",
    "\n",
    "ax.legend(bbox_to_anchor=(1.1, 0.5), frameon=False, labelspacing=2)\n",
    "ax.spines[\"right\"].set_color(\"none\") \n",
    "ax.spines[\"left\"].set_color(\"none\")  \n",
    "ax.spines[\"top\"].set_color(\"none\")   \n",
    "ax.spines[\"bottom\"].set_color(\"none\")\n",
    "\n",
    "ax.set_xlabel('position')\n",
    "ax.set_ylim(-0.5,df_bismark.shape[0])\n",
    "ax.set_title(gene)"
   ]
  },
  {
   "cell_type": "code",
   "execution_count": 14,
   "metadata": {},
   "outputs": [
    {
     "output_type": "execute_result",
     "data": {
      "text/plain": [
       "pos                49260768  49260787  49260796  49260804  49260808  49260814  \\\n",
       "read                                                                            \n",
       "Goto_2_G02_20.seq         1         1         1         1         1         1   \n",
       "Goto_2_F02_17.seq         1         1         1         1         1         1   \n",
       "Goto_2_B02_05.seq         1         1         0         1         1         1   \n",
       "\n",
       "pos                49260817  49260827  49260835  49260876  49260881  \n",
       "read                                                                 \n",
       "Goto_2_G02_20.seq         1         1         1         1         1  \n",
       "Goto_2_F02_17.seq         1         1         1         1         1  \n",
       "Goto_2_B02_05.seq         1         1         1         1         1  "
      ],
      "text/html": "<div>\n<style scoped>\n    .dataframe tbody tr th:only-of-type {\n        vertical-align: middle;\n    }\n\n    .dataframe tbody tr th {\n        vertical-align: top;\n    }\n\n    .dataframe thead th {\n        text-align: right;\n    }\n</style>\n<table border=\"1\" class=\"dataframe\">\n  <thead>\n    <tr style=\"text-align: right;\">\n      <th>pos</th>\n      <th>49260768</th>\n      <th>49260787</th>\n      <th>49260796</th>\n      <th>49260804</th>\n      <th>49260808</th>\n      <th>49260814</th>\n      <th>49260817</th>\n      <th>49260827</th>\n      <th>49260835</th>\n      <th>49260876</th>\n      <th>49260881</th>\n    </tr>\n    <tr>\n      <th>read</th>\n      <th></th>\n      <th></th>\n      <th></th>\n      <th></th>\n      <th></th>\n      <th></th>\n      <th></th>\n      <th></th>\n      <th></th>\n      <th></th>\n      <th></th>\n    </tr>\n  </thead>\n  <tbody>\n    <tr>\n      <th>Goto_2_G02_20.seq</th>\n      <td>1</td>\n      <td>1</td>\n      <td>1</td>\n      <td>1</td>\n      <td>1</td>\n      <td>1</td>\n      <td>1</td>\n      <td>1</td>\n      <td>1</td>\n      <td>1</td>\n      <td>1</td>\n    </tr>\n    <tr>\n      <th>Goto_2_F02_17.seq</th>\n      <td>1</td>\n      <td>1</td>\n      <td>1</td>\n      <td>1</td>\n      <td>1</td>\n      <td>1</td>\n      <td>1</td>\n      <td>1</td>\n      <td>1</td>\n      <td>1</td>\n      <td>1</td>\n    </tr>\n    <tr>\n      <th>Goto_2_B02_05.seq</th>\n      <td>1</td>\n      <td>1</td>\n      <td>0</td>\n      <td>1</td>\n      <td>1</td>\n      <td>1</td>\n      <td>1</td>\n      <td>1</td>\n      <td>1</td>\n      <td>1</td>\n      <td>1</td>\n    </tr>\n  </tbody>\n</table>\n</div>"
     },
     "metadata": {},
     "execution_count": 14
    }
   ],
   "source": [
    "df_bismark"
   ]
  },
  {
   "cell_type": "code",
   "execution_count": null,
   "metadata": {},
   "outputs": [],
   "source": []
  }
 ],
 "metadata": {
  "kernelspec": {
   "name": "python376jvsc74a57bd0a675cc5a0a148518bb1e98a856e05feb20a77b4f31e50a84c48b17e244ec4e6a",
   "display_name": "Python 3.7.6 64-bit"
  },
  "language_info": {
   "codemirror_mode": {
    "name": "ipython",
    "version": 3
   },
   "file_extension": ".py",
   "mimetype": "text/x-python",
   "name": "python",
   "nbconvert_exporter": "python",
   "pygments_lexer": "ipython3",
   "version": "3.7.6"
  }
 },
 "nbformat": 4,
 "nbformat_minor": 2
}